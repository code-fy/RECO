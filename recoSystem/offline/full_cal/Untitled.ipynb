{
 "cells": [
  {
   "cell_type": "code",
   "execution_count": 1,
   "metadata": {},
   "outputs": [],
   "source": [
    "import os\n",
    "import sys\n",
    "BASE_DIR = os.path.dirname(os.path.dirname(os.getcwd()))\n",
    "sys.path.insert(0, os.path.join(BASE_DIR))\n",
    "\n",
    "from offline import SparkSessionBase"
   ]
  },
  {
   "cell_type": "code",
   "execution_count": 2,
   "metadata": {},
   "outputs": [],
   "source": [
    "class UpdateUserProfile(SparkSessionBase):\n",
    "    \n",
    "    SPARK_APP_NAME = \"updateUser\"\n",
    "    ENABLE_HIVE_SUPPORT = True\n",
    "    SPARK_EXECUTOR_MEMORY = \"4g\"\n",
    "    \n",
    "    def __init__(self):\n",
    "        self.spark = self._create_spark_session()"
   ]
  },
  {
   "cell_type": "code",
   "execution_count": 3,
   "metadata": {},
   "outputs": [],
   "source": [
    "uup = UpdateUserProfile()"
   ]
  },
  {
   "cell_type": "code",
   "execution_count": 4,
   "metadata": {},
   "outputs": [
    {
     "data": {
      "text/plain": [
       "DataFrame[]"
      ]
     },
     "execution_count": 4,
     "metadata": {},
     "output_type": "execute_result"
    }
   ],
   "source": [
    "uup.spark.sql(\"use fytang\")"
   ]
  },
  {
   "cell_type": "code",
   "execution_count": 8,
   "metadata": {},
   "outputs": [],
   "source": [
    "user_action = uup.spark.sql(\"select * from user_article_basic\")"
   ]
  },
  {
   "cell_type": "code",
   "execution_count": 9,
   "metadata": {},
   "outputs": [
    {
     "name": "stdout",
     "output_type": "stream",
     "text": [
      "+-------------------+-------------------+----------+----------+------+-------+---------+--------+---------+\n",
      "|            user_id|        action_time|article_id|channel_id|shared|clicked|collected|exposure|read_time|\n",
      "+-------------------+-------------------+----------+----------+------+-------+---------+--------+---------+\n",
      "|1105045287866466304|2019-03-11 18:13:45|     14225|         0| false|  false|    false|    true|         |\n",
      "|1106476833370537984|2019-03-15 16:46:50|     14208|         0| false|  false|    false|    true|         |\n",
      "|1111189494544990208|2019-03-28 17:02:35|     19322|         0| false|  false|    false|    true|         |\n",
      "|1111524501104885760|2019-03-29 15:04:27|     44161|         0| false|  false|    false|    true|         |\n",
      "|1112727762809913344|2019-04-03 12:51:57|     18172|        18| false|   true|     true|    true|    19413|\n",
      "|                  1|2019-03-07 16:57:34|     44386|        18| false|   true|    false|    true|    17850|\n",
      "|                  1|2019-03-11 18:13:11|     44696|         0| false|  false|    false|    true|         |\n",
      "|                 10|2019-03-06 10:06:15|     43907|         0| false|  false|    false|    true|         |\n",
      "|1106473203766657024|2019-03-15 16:32:24|     16005|         0| false|  false|    false|    true|         |\n",
      "|1108264901190615040|2019-03-20 15:18:27|     15196|         0| false|  false|    false|    true|         |\n",
      "|                 23|2019-04-03 08:10:23|     44739|        18| false|   true|    false|    true|    14216|\n",
      "|                 33|2019-03-06 18:24:11|     13570|         0| false|  false|    false|    true|         |\n",
      "|                  1|2019-03-15 16:42:42|     17632|         0| false|  false|    false|    true|         |\n",
      "|1106473203766657024|2019-03-15 16:32:24|     17665|         0| false|  false|    false|    true|         |\n",
      "|1111189494544990208|2019-03-28 16:57:45|     44368|         0| false|  false|    false|    true|         |\n",
      "|                 10|2019-03-06 10:06:15|     44368|         0| false|  false|    false|    true|         |\n",
      "|1105093883106164736|2019-03-11 21:11:33|     15750|         0| false|  false|    false|    true|         |\n",
      "|1106396183141548032|2019-03-28 10:55:34|     19476|         0| false|  false|    false|    true|         |\n",
      "|1111524501104885760|2019-03-29 15:04:54|     19233|         0| false|  false|    false|    true|         |\n",
      "|                  2|2019-03-05 10:19:54|     44371|        18| false|   true|    false|    true|      938|\n",
      "+-------------------+-------------------+----------+----------+------+-------+---------+--------+---------+\n",
      "only showing top 20 rows\n",
      "\n"
     ]
    }
   ],
   "source": [
    "user_action.show()"
   ]
  },
  {
   "cell_type": "code",
   "execution_count": 11,
   "metadata": {},
   "outputs": [
    {
     "name": "stdout",
     "output_type": "stream",
     "text": [
      "+-------------------+--------+\n",
      "|            user_id|count(1)|\n",
      "+-------------------+--------+\n",
      "|1106473203766657024|      67|\n",
      "|1103195673450250240|      62|\n",
      "|1105045287866466304|      68|\n",
      "|1111524501104885760|      55|\n",
      "|1105105185656537088|      60|\n",
      "|1113316420155867136|       9|\n",
      "|                 33|      35|\n",
      "|                  1|      50|\n",
      "|1113244157343694848|      21|\n",
      "|                 10|      72|\n",
      "|1113053603926376448|       2|\n",
      "|1112727762809913344|      43|\n",
      "|                  2|      48|\n",
      "|                  4|      24|\n",
      "|1106476833370537984|      77|\n",
      "|1106396183141548032|     117|\n",
      "|                 38|      15|\n",
      "|                 23|      12|\n",
      "|1108264901190615040|      63|\n",
      "|1111189494544990208|      86|\n",
      "+-------------------+--------+\n",
      "only showing top 20 rows\n",
      "\n"
     ]
    }
   ],
   "source": [
    "user_count = uup.spark.sql(\"select user_id, count(*) from user_article_basic group by user_id\")\n",
    "user_count.show()"
   ]
  },
  {
   "cell_type": "code",
   "execution_count": 12,
   "metadata": {},
   "outputs": [
    {
     "name": "stdout",
     "output_type": "stream",
     "text": [
      "+-------------------+-------------------+----------+----------+------+-------+---------+--------+---------+\n",
      "|            user_id|        action_time|article_id|channel_id|shared|clicked|collected|exposure|read_time|\n",
      "+-------------------+-------------------+----------+----------+------+-------+---------+--------+---------+\n",
      "|1113053603926376448|2019-04-03 13:30:21|     14335|         0| false|  false|    false|    true|         |\n",
      "|1113053603926376448|2019-04-03 13:30:21|    141437|         0| false|  false|    false|    true|         |\n",
      "+-------------------+-------------------+----------+----------+------+-------+---------+--------+---------+\n",
      "\n"
     ]
    }
   ],
   "source": [
    "a = uup.spark.sql(\"select * from user_article_basic where user_id = 1113053603926376448\")\n",
    "a.show()"
   ]
  },
  {
   "cell_type": "code",
   "execution_count": 15,
   "metadata": {},
   "outputs": [
    {
     "name": "stdout",
     "output_type": "stream",
     "text": [
      "+----------+--------+\n",
      "|channel_id|count(1)|\n",
      "+----------+--------+\n",
      "|        12|    5232|\n",
      "|        22|    4765|\n",
      "|         1|    3003|\n",
      "|        13|    8903|\n",
      "|        16|    4444|\n",
      "|         6|    3100|\n",
      "|         3|    3225|\n",
      "|        20|    3186|\n",
      "|         5|    5923|\n",
      "|        19|   13113|\n",
      "|        15|   11927|\n",
      "|        17|   14391|\n",
      "|         9|    3071|\n",
      "|         4|    3148|\n",
      "|         8|    2759|\n",
      "|        23|    1525|\n",
      "|         7|    7322|\n",
      "|        10|     866|\n",
      "|        25|     187|\n",
      "|        24|    1109|\n",
      "+----------+--------+\n",
      "only showing top 20 rows\n",
      "\n"
     ]
    }
   ],
   "source": [
    "article  = uup.spark.sql(\"select channel_id, count(*) from article_data group by channel_id\")\n",
    "article.show()"
   ]
  },
  {
   "cell_type": "code",
   "execution_count": null,
   "metadata": {},
   "outputs": [],
   "source": []
  }
 ],
 "metadata": {
  "kernelspec": {
   "display_name": "Python 3",
   "language": "python",
   "name": "python3"
  },
  "language_info": {
   "codemirror_mode": {
    "name": "ipython",
    "version": 3
   },
   "file_extension": ".py",
   "mimetype": "text/x-python",
   "name": "python",
   "nbconvert_exporter": "python",
   "pygments_lexer": "ipython3",
   "version": "3.6.10"
  }
 },
 "nbformat": 4,
 "nbformat_minor": 4
}
